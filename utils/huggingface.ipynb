{
 "cells": [
  {
   "cell_type": "code",
   "execution_count": 1,
   "id": "65abfcf7",
   "metadata": {},
   "outputs": [],
   "source": [
    "# create  or delete a dataset repository on huggingface.co\n",
    "from huggingface_hub import delete_repo, create_repo\n",
    "# create_repo(\"wdy0123/InduMan-dataset\", repo_type=\"dataset\", exist_ok=True)\n",
    "\n",
    "delete_repo(repo_id=\"wdy0123/InduMan-dataset\", repo_type=\"dataset\")"
   ]
  },
  {
   "cell_type": "code",
   "execution_count": null,
   "id": "f1904136",
   "metadata": {},
   "outputs": [],
   "source": [
    "# upload large folder to huggingface hub\n",
    "from huggingface_hub import HfApi\n",
    "api = HfApi()\n",
    "api.upload_large_folder(\n",
    "    repo_id=\"wdy0123/InduMan\",\n",
    "    repo_type=\"dataset\",\n",
    "    folder_path=\"/home/wdy02/wdy_program/simulation_plus/IsaacLab/induman_data/00_all_h5files/Use_in_exp/InduMan-dataset\",\n",
    ")"
   ]
  }
 ],
 "metadata": {
  "kernelspec": {
   "display_name": "isaac",
   "language": "python",
   "name": "python3"
  },
  "language_info": {
   "codemirror_mode": {
    "name": "ipython",
    "version": 3
   },
   "file_extension": ".py",
   "mimetype": "text/x-python",
   "name": "python",
   "nbconvert_exporter": "python",
   "pygments_lexer": "ipython3",
   "version": "3.10.18"
  }
 },
 "nbformat": 4,
 "nbformat_minor": 5
}
